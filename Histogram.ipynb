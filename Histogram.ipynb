{
 "cells": [
  {
   "cell_type": "markdown",
   "id": "dbde8d74",
   "metadata": {
    "ExecuteTime": {
     "end_time": "2021-09-20T08:51:11.773433Z",
     "start_time": "2021-09-20T08:51:11.749871Z"
    }
   },
   "source": [
    "# Graphs"
   ]
  },
  {
   "cell_type": "markdown",
   "id": "3042a193",
   "metadata": {
    "ExecuteTime": {
     "end_time": "2021-09-20T09:04:20.379024Z",
     "start_time": "2021-09-20T09:04:20.322559Z"
    }
   },
   "source": [
    "## BarPlot \n",
    "Plotting a bar plot for displaying the number of reached targets and cancelled targets."
   ]
  },
  {
   "cell_type": "code",
   "execution_count": 1,
   "id": "5120f685",
   "metadata": {
    "ExecuteTime": {
     "end_time": "2021-09-20T09:17:17.233569Z",
     "start_time": "2021-09-20T09:17:10.691310Z"
    }
   },
   "outputs": [
    {
     "data": {
      "application/vnd.jupyter.widget-view+json": {
       "model_id": "1d17fa553949470d90fa0f92d8ac0d16",
       "version_major": 2,
       "version_minor": 0
      },
      "text/plain": [
       "Canvas(toolbar=Toolbar(toolitems=[('Home', 'Reset original view', 'home', 'home'), ('Back', 'Back to previous …"
      ]
     },
     "metadata": {},
     "output_type": "display_data"
    }
   ],
   "source": [
    "import rt2_assignment1.msg\n",
    "import matplotlib.pyplot as plt\n",
    "import matplotlib.animation as animation\n",
    "import rospy\n",
    "import jupyros as jr\n",
    "import numpy as np\n",
    "\n",
    "%matplotlib widget\n",
    "#Initializing 'plotting' node\n",
    "rospy.init_node('plotting')\n",
    "\n",
    "# Defining barPlot Data\n",
    "goals = [0, 0] # goals[0] for reached and goals[1] for cancelled\n",
    "labels = ['Reached', 'Cancelled']\n",
    "\n",
    "\n",
    "# Defining plot figure and its parameters\n",
    "fig_b, ax_b = plt.subplots()\n",
    "ax_b.yaxis.set_ticks(np.arange(0, max(goals)+2, 1))\n",
    "plt.ylabel('number of goals')\n",
    "plt.title('Plot for Goal Results')\n",
    "#plt.show()\n",
    "bars = plt.bar(labels, goals)\n",
    "\n",
    "# Callback for PositionActionResult msg\n",
    "def result_callback(msg):\n",
    "    # Update bar and histogram data\n",
    "    if msg.result.ok == True:\n",
    "        goals[0] = goals[0] + 1 \n",
    "        HIST_data.append(msg.header.stamp.secs - msg.status.goal_id.stamp.secs)\n",
    "    else:\n",
    "        goals[1] = goals[1] + 1 \n",
    "        \n",
    "\n",
    "def animate_rects(i):\n",
    "    # Updating the bar figure\n",
    "    for b, val in zip(bars, goals):\n",
    "         b.set_height(val)   \n",
    "    ax_b.yaxis.set_ticks(np.arange(0, max(goals)+2, 1))\n",
    "    return bars, \n",
    "\n",
    "# Subscribe to the /go_to_point/results topic\n",
    "jr.subscribe('/go_to_point/result', rt2_assignment1.msg.PositionActionResult, result_callback)\n",
    "\n",
    "# Create an animation function for the barPlot\n",
    "anim_goal = animation.FuncAnimation(fig_b, animate_rects, blit=True)"
   ]
  },
  {
   "cell_type": "markdown",
   "id": "462a7d18",
   "metadata": {},
   "source": [
    "## Histogram\n",
    "Plotting histogram for showing the time required to reach a goal.\n",
    "\n",
    "Note: I seperated the histogram plot in a different notebook because the histogram is slowing down the execution of all the other graphs and interface."
   ]
  },
  {
   "cell_type": "code",
   "execution_count": 2,
   "id": "006111ce",
   "metadata": {
    "ExecuteTime": {
     "end_time": "2021-09-20T09:17:17.806629Z",
     "start_time": "2021-09-20T09:17:17.244965Z"
    }
   },
   "outputs": [
    {
     "data": {
      "application/vnd.jupyter.widget-view+json": {
       "model_id": "7ff897a46e114e9d8f19b4a2291b52c9",
       "version_major": 2,
       "version_minor": 0
      },
      "text/plain": [
       "Canvas(toolbar=Toolbar(toolitems=[('Home', 'Reset original view', 'home', 'home'), ('Back', 'Back to previous …"
      ]
     },
     "metadata": {},
     "output_type": "display_data"
    }
   ],
   "source": [
    "import numpy as np\n",
    "import matplotlib.pyplot as plt\n",
    "import matplotlib.animation as animation\n",
    "\n",
    "# Defining Histogram Data\n",
    "HIST_data = [] # array of the times required to reach the goal\n",
    "HIST_BINS = np.arange(0, 62, 1) # array of possible times required to reach the goal\n",
    "\n",
    "# Defining plot figure and its parameters\n",
    "n, _ = np.histogram(HIST_data, HIST_BINS)\n",
    "hist_fig, ax_hist = plt.subplots()\n",
    "ax_hist.set_xlabel(\"Time [s]\")\n",
    "ax_hist.set_title(\"Time required to reach a goal\")\n",
    "ax_hist.set_ylim(top=1) \n",
    "\n",
    "_, _, bar_container = ax_hist.hist(HIST_data, HIST_BINS, facecolor='g', alpha=0.75)\n",
    "\n",
    "\n",
    "def animate_hist(i):    \n",
    "        n, _ = np.histogram(HIST_data, HIST_BINS)\n",
    "        ax_hist.hist(HIST_data, HIST_BINS,facecolor='g', alpha=0.75)\n",
    "        ax_hist.autoscale()\n",
    "        \n",
    "\n",
    "# Create an animation function for the histogram\n",
    "anim_hist = animation.FuncAnimation(hist_fig, animate_hist, blit=True)"
   ]
  },
  {
   "cell_type": "code",
   "execution_count": null,
   "id": "35adb42c",
   "metadata": {},
   "outputs": [],
   "source": []
  }
 ],
 "metadata": {
  "hide_input": false,
  "kernelspec": {
   "display_name": "Python 3 (ipykernel)",
   "language": "python",
   "name": "python3"
  },
  "language_info": {
   "codemirror_mode": {
    "name": "ipython",
    "version": 3
   },
   "file_extension": ".py",
   "mimetype": "text/x-python",
   "name": "python",
   "nbconvert_exporter": "python",
   "pygments_lexer": "ipython3",
   "version": "3.8.5"
  },
  "toc": {
   "base_numbering": 1,
   "nav_menu": {},
   "number_sections": true,
   "sideBar": true,
   "skip_h1_title": false,
   "title_cell": "Table of Contents",
   "title_sidebar": "Contents",
   "toc_cell": false,
   "toc_position": {},
   "toc_section_display": true,
   "toc_window_display": false
  },
  "varInspector": {
   "cols": {
    "lenName": 16,
    "lenType": 16,
    "lenVar": 40
   },
   "kernels_config": {
    "python": {
     "delete_cmd_postfix": "",
     "delete_cmd_prefix": "del ",
     "library": "var_list.py",
     "varRefreshCmd": "print(var_dic_list())"
    },
    "r": {
     "delete_cmd_postfix": ") ",
     "delete_cmd_prefix": "rm(",
     "library": "var_list.r",
     "varRefreshCmd": "cat(var_dic_list()) "
    }
   },
   "types_to_exclude": [
    "module",
    "function",
    "builtin_function_or_method",
    "instance",
    "_Feature"
   ],
   "window_display": false
  }
 },
 "nbformat": 4,
 "nbformat_minor": 5
}
