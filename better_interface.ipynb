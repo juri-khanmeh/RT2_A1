{
 "cells": [
  {
   "cell_type": "markdown",
   "id": "1c315100",
   "metadata": {},
   "source": [
    "# Better Interface\n",
    "We have replaced the User Interface of the first assignment with a nicer user interface developed with a Jupyter Notebook.\n",
    "\n",
    "In particular we want the user interface to be able of:\n",
    "* starting / stopping the robot “random position” behaviour by using two Buttons\n",
    "* setting the linear and angular velocity by using two Sliders\n",
    "* directly controlling the robot movements by using 5 Buttons, (forward, turn right, backward, turn left, stop)"
   ]
  },
  {
   "cell_type": "markdown",
   "id": "3388a5b8",
   "metadata": {},
   "source": [
    "## [Start/Stop] buttons\n",
    "We created two buttons: \n",
    "* Start: for starting the random postion movement of the robot.\n",
    "* Stop: for stopping the random position movement of the robot."
   ]
  },
  {
   "cell_type": "code",
   "execution_count": 1,
   "id": "85653571",
   "metadata": {
    "ExecuteTime": {
     "end_time": "2021-09-20T10:37:54.699284Z",
     "start_time": "2021-09-20T10:37:45.592149Z"
    }
   },
   "outputs": [
    {
     "data": {
      "application/vnd.jupyter.widget-view+json": {
       "model_id": "974f8669528f4817acd7c323f0a435f1",
       "version_major": 2,
       "version_minor": 0
      },
      "text/plain": [
       "VBox(children=(HBox(children=(Button(description='Start', style=ButtonStyle()), Button(description='Stop', sty…"
      ]
     },
     "metadata": {},
     "output_type": "display_data"
    }
   ],
   "source": [
    "import ipywidgets as widgets\n",
    "from geometry_msgs.msg import Twist\n",
    "from matplotlib import animation, rc\n",
    "from nav_msgs.msg import Odometry\n",
    "import rospy\n",
    "import jupyros as jr\n",
    "import matplotlib.pyplot as plt\n",
    "import numpy as np\n",
    "from ipywidgets import Button, Layout, ButtonStyle, GridBox, VBox, HBox\n",
    "from rt2_assignment1.srv import Command\n",
    "\n",
    "%matplotlib widget\n",
    "\n",
    "## Initializing nodes ##\n",
    "rospy.init_node('better_interface')\n",
    "# Defining /user_interface client \n",
    "ui_client = rospy.ServiceProxy('/user_interface', Command)\n",
    "# Defining /cmd_vel publisher\n",
    "pub_ = rospy.Publisher('/cmd_vel', Twist, queue_size=1)\n",
    " \n",
    "## Create buttons and output screen ##\n",
    "button1 = widgets.Button(description='Start')\n",
    "button2 = widgets.Button(description='Stop')\n",
    "out = widgets.Output()\n",
    "\n",
    "## Buttons on_click call backs ##\n",
    "def on_button1_clicked(_):\n",
    "    with out:\n",
    "        ui_client(\"start\")\n",
    "        print('start random moving...')\n",
    "        \n",
    "def on_button2_clicked(_):\n",
    "    with out:\n",
    "        ui_client(\"stop\")\n",
    "        print('Stop random moving')\n",
    "\n",
    "\n",
    "button1.on_click(on_button1_clicked)\n",
    "button2.on_click(on_button2_clicked)\n",
    "\n",
    "# displaying button and its output together\n",
    "widgets.VBox([HBox([button1,button2]), out])\n"
   ]
  },
  {
   "cell_type": "markdown",
   "id": "0ab172cd",
   "metadata": {},
   "source": [
    "## Velocity Sliders\n",
    "* For setting the linear and angular velocity of the robot.\n",
    "* *Note1*: I added a third slider for (Kp) the angular velocity multiplier which is used in *goToPoint* node.\n",
    "* *Note2*: When the robot is in the random motion mode, we use the slider **Kp_a** for changing the angular velocity.\n",
    "* *Note3*: When the robot is in the free motion mode, we use the slider **Angular Velocity** for changing the angular velocity."
   ]
  },
  {
   "cell_type": "code",
   "execution_count": 2,
   "id": "11557744",
   "metadata": {
    "ExecuteTime": {
     "end_time": "2021-09-20T10:37:55.375268Z",
     "start_time": "2021-09-20T10:37:54.716331Z"
    },
    "scrolled": false
   },
   "outputs": [
    {
     "data": {
      "application/vnd.jupyter.widget-view+json": {
       "model_id": "9400bdcd7cbb4e4bb747e01387cd4c68",
       "version_major": 2,
       "version_minor": 0
      },
      "text/plain": [
       "HBox(children=(Label(value='Linear Velocity'), FloatSlider(value=0.3, max=0.6, min=0.1)))"
      ]
     },
     "metadata": {},
     "output_type": "display_data"
    },
    {
     "data": {
      "application/vnd.jupyter.widget-view+json": {
       "model_id": "c031be47b86d4fbab4db91d72b274718",
       "version_major": 2,
       "version_minor": 0
      },
      "text/plain": [
       "HBox(children=(Label(value='Angular Velocity'), FloatSlider(value=0.3, max=0.6, min=0.1)))"
      ]
     },
     "metadata": {},
     "output_type": "display_data"
    },
    {
     "data": {
      "application/vnd.jupyter.widget-view+json": {
       "model_id": "988ecf0881bc4c03984b7cd8e7fb1df5",
       "version_major": 2,
       "version_minor": 0
      },
      "text/plain": [
       "HBox(children=(Label(value='Kp_a'), FloatSlider(value=3.0, max=5.0, min=0.1)))"
      ]
     },
     "metadata": {},
     "output_type": "display_data"
    }
   ],
   "source": [
    "%matplotlib widget\n",
    "import numpy as np\n",
    "import matplotlib.pyplot as plt\n",
    "import jupyros as jr\n",
    "import rospy\n",
    "from matplotlib import animation, rc\n",
    "import ipywidgets as widgets\n",
    "\n",
    "## Defining 3 Sliders ##\n",
    "# For linear velocity\n",
    "linear = widgets.FloatSlider(value=0.3, min=0.1, max=0.6)\n",
    "a1 = widgets.HBox([widgets.Label(value=\"Linear Velocity\"), linear])\n",
    "display(a1)\n",
    "\n",
    "# For angular velocity\n",
    "angular = widgets.FloatSlider(value=0.3, min=0.1, max=0.6)\n",
    "a2 = widgets.HBox([widgets.Label(value=\"Angular Velocity\"), angular])\n",
    "display(a2)\n",
    "\n",
    "# For angular multiplier Kp_a\n",
    "kp = widgets.FloatSlider(value=3, min=0.1, max=5.0)\n",
    "a3 = widgets.HBox([widgets.Label(value=\"Kp_a\"), kp])\n",
    "display(a3)\n",
    "\n",
    "## Sliders' Change call_backs ##\n",
    "# Here we used 3 global parameters for setting the velocities\n",
    "def linear_value_change(change):\n",
    "    l_vel = change['new']\n",
    "    rospy.set_param(\"linear_vel\",l_vel)\n",
    "    \n",
    "def angular_value_change(change):\n",
    "    a_vel = change['new']\n",
    "    rospy.set_param(\"angular_vel\",a_vel)    \n",
    "\n",
    "def kp_value_change(change):\n",
    "    kp_vel = change['new']\n",
    "    rospy.set_param(\"kp_vel\",kp_vel)    \n",
    "    \n",
    "linear.observe(linear_value_change, names='value')\n",
    "angular.observe(angular_value_change, names='value')\n",
    "kp.observe(kp_value_change, names='value')\n"
   ]
  },
  {
   "cell_type": "markdown",
   "id": "94563fb7",
   "metadata": {},
   "source": [
    "## Free movement\n",
    "We can freely control the movement of the robot by using five buttons;\n",
    "(forward, turn right, backward, turn left, stop)"
   ]
  },
  {
   "cell_type": "code",
   "execution_count": 3,
   "id": "4c610815",
   "metadata": {
    "ExecuteTime": {
     "end_time": "2021-09-20T10:37:55.862248Z",
     "start_time": "2021-09-20T10:37:55.389502Z"
    },
    "scrolled": true
   },
   "outputs": [
    {
     "data": {
      "application/vnd.jupyter.widget-view+json": {
       "model_id": "607fa759f0ee4faeb239f320ad1b1843",
       "version_major": 2,
       "version_minor": 0
      },
      "text/plain": [
       "GridBox(children=(Button(icon='arrow-up', layout=Layout(grid_area='up', width='auto'), style=ButtonStyle(butto…"
      ]
     },
     "metadata": {},
     "output_type": "display_data"
    },
    {
     "data": {
      "application/vnd.jupyter.widget-view+json": {
       "model_id": "1ac294c9ae504281ae170440e0c686f0",
       "version_major": 2,
       "version_minor": 0
      },
      "text/plain": [
       "Output()"
      ]
     },
     "metadata": {},
     "output_type": "display_data"
    }
   ],
   "source": [
    "from ipywidgets import Button, Layout, ButtonStyle, GridBox, VBox, HBox\n",
    "import ipywidgets as widgets\n",
    "\n",
    "## Defining 5 buttons ##\n",
    "up = Button(\n",
    "layout=Layout(width='auto', align=\"center\", grid_area='up'),\n",
    "style=ButtonStyle(button_color='lightblue'),\n",
    "           icon='fa-arrow-up')\n",
    "\n",
    "down = Button(\n",
    "layout=Layout(width='auto', grid_area='down'),\n",
    "style=ButtonStyle(button_color='lightblue'),\n",
    "           icon='fa-arrow-down')\n",
    "\n",
    "right = Button(\n",
    "layout=Layout(width='auto', grid_area='right'),\n",
    "style=ButtonStyle(button_color='lightblue'),\n",
    "           icon='fa-arrow-right')\n",
    "\n",
    "left = Button(\n",
    "layout=Layout(width='auto', grid_area='left'),\n",
    "style=ButtonStyle(button_color='lightblue'),\n",
    "           icon='fa-arrow-left')\n",
    "\n",
    "stop = Button(\n",
    "layout=Layout(width='auto', grid_area='stop'),\n",
    "style=ButtonStyle(button_color='lightblue'),\n",
    "           icon='fa-stop-circle')\n",
    "\n",
    "# Defining Outputs\n",
    "output = widgets.Output()\n",
    "\n",
    "# Setting Buttons's positions\n",
    "a = GridBox(children=[up, down, right, left,stop],\n",
    "    layout=Layout(\n",
    "        width='20%',\n",
    "        grid_template_rows='auto auto',\n",
    "        grid_template_columns='33% 33% 33%',\n",
    "        grid_template_areas='''\n",
    "        \" . up . \"\n",
    "        \"left stop right \"\n",
    "        \". down .\"\n",
    "        ''')\n",
    "    )\n",
    "\n",
    "# Displaying buttons and output screen\n",
    "display(a)\n",
    "display(output)\n"
   ]
  },
  {
   "cell_type": "code",
   "execution_count": 4,
   "id": "223ab7fd",
   "metadata": {
    "ExecuteTime": {
     "end_time": "2021-09-20T10:37:56.002049Z",
     "start_time": "2021-09-20T10:37:55.879316Z"
    }
   },
   "outputs": [],
   "source": [
    "# Define cmd_vel publisher for setting velocities \n",
    "pub = rospy.Publisher('cmd_vel', Twist, queue_size=10)\n",
    "msg = Twist()\n",
    "\n",
    "## Buttons on_click handles ##\n",
    "def up_clicked(b):\n",
    "    global msg\n",
    "    msg.angular.z = 0\n",
    "    msg.linear.x = rospy.get_param(\"linear_vel\")\n",
    "    pub.publish(msg)    \n",
    "    with output:\n",
    "        print(\"Forward\")\n",
    "        \n",
    "def down_clicked(b):\n",
    "    global msg\n",
    "    msg.angular.z = 0\n",
    "    msg.linear.x = rospy.get_param(\"linear_vel\")*(-1)\n",
    "    pub.publish(msg)  \n",
    "    with output:\n",
    "        print(\"Backword\")\n",
    "        \n",
    "def left_clicked(b):\n",
    "    global msg\n",
    "    msg.angular.z = rospy.get_param(\"angular_vel\")*(-1)\n",
    "    msg.linear.x = 0\n",
    "    pub.publish(msg)\n",
    "    with output:\n",
    "        print(\"Turn Left\")\n",
    "        \n",
    "def right_clicked(b):\n",
    "    global msg\n",
    "    msg.angular.z = rospy.get_param(\"angular_vel\")\n",
    "    msg.linear.x = 0\n",
    "    pub.publish(msg)\n",
    "    with output:\n",
    "        print(\"Trun Right\")\n",
    "        \n",
    "def stop_clicked(b):\n",
    "    global msg\n",
    "    msg.linear.x = 0\n",
    "    msg.angular.z = 0\n",
    "    pub.publish(msg)\n",
    "    with output:\n",
    "        print(\"Stop\")\n",
    "        \n",
    "up.on_click(up_clicked)\n",
    "down.on_click(down_clicked)\n",
    "left.on_click(left_clicked)\n",
    "right.on_click(right_clicked)\n",
    "stop.on_click(stop_clicked)"
   ]
  }
 ],
 "metadata": {
  "hide_input": false,
  "kernelspec": {
   "display_name": "Python 3 (ipykernel)",
   "language": "python",
   "name": "python3"
  },
  "language_info": {
   "codemirror_mode": {
    "name": "ipython",
    "version": 3
   },
   "file_extension": ".py",
   "mimetype": "text/x-python",
   "name": "python",
   "nbconvert_exporter": "python",
   "pygments_lexer": "ipython3",
   "version": "3.8.5"
  },
  "toc": {
   "base_numbering": 1,
   "nav_menu": {},
   "number_sections": true,
   "sideBar": true,
   "skip_h1_title": false,
   "title_cell": "Table of Contents",
   "title_sidebar": "Contents",
   "toc_cell": false,
   "toc_position": {},
   "toc_section_display": true,
   "toc_window_display": false
  },
  "varInspector": {
   "cols": {
    "lenName": 16,
    "lenType": 16,
    "lenVar": 40
   },
   "kernels_config": {
    "python": {
     "delete_cmd_postfix": "",
     "delete_cmd_prefix": "del ",
     "library": "var_list.py",
     "varRefreshCmd": "print(var_dic_list())"
    },
    "r": {
     "delete_cmd_postfix": ") ",
     "delete_cmd_prefix": "rm(",
     "library": "var_list.r",
     "varRefreshCmd": "cat(var_dic_list()) "
    }
   },
   "types_to_exclude": [
    "module",
    "function",
    "builtin_function_or_method",
    "instance",
    "_Feature"
   ],
   "window_display": false
  }
 },
 "nbformat": 4,
 "nbformat_minor": 5
}
