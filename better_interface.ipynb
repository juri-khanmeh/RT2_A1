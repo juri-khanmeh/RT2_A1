{
 "cells": [
  {
   "cell_type": "code",
   "execution_count": 1,
   "id": "85653571",
   "metadata": {
    "ExecuteTime": {
     "end_time": "2021-09-15T22:02:59.856626Z",
     "start_time": "2021-09-15T22:02:49.001975Z"
    }
   },
   "outputs": [
    {
     "data": {
      "application/vnd.jupyter.widget-view+json": {
       "model_id": "35627037393e44d5bf160533578a959a",
       "version_major": 2,
       "version_minor": 0
      },
      "text/plain": [
       "VBox(children=(HBox(children=(Button(description='Start', style=ButtonStyle()), Button(description='Stop', sty…"
      ]
     },
     "metadata": {},
     "output_type": "display_data"
    }
   ],
   "source": [
    "import ipywidgets as widgets\n",
    "from geometry_msgs.msg import Twist\n",
    "from matplotlib import animation, rc\n",
    "from nav_msgs.msg import Odometry\n",
    "import rospy\n",
    "import jupyros as jr\n",
    "import matplotlib.pyplot as plt\n",
    "import numpy as np\n",
    "from ipywidgets import Button, Layout, ButtonStyle, GridBox, VBox, HBox\n",
    "from rt2_assignment1.srv import Command\n",
    "\n",
    "%matplotlib widget\n",
    "\n",
    "#define client\n",
    "rospy.init_node('better_interface')\n",
    "ui_client = rospy.ServiceProxy('/user_interface', Command)\n",
    "\n",
    " \n",
    "\n",
    "button1 = widgets.Button(description='Start')\n",
    "button2 = widgets.Button(description='Stop')\n",
    "#HBox([button1, button2])\n",
    "out = widgets.Output()\n",
    "\n",
    "def on_button1_clicked(_):\n",
    "    # \"linking function with output\"\n",
    "    with out:\n",
    "        # what happens when we press the button\n",
    "        #clear_output()\n",
    "        ui_client(\"start\")\n",
    "        print('start random moving...')\n",
    "        \n",
    "def on_button2_clicked(_):\n",
    "    # \"linking function with output\"\n",
    "    with out:\n",
    "        # what happens when we press the button\n",
    "        #clear_output()\n",
    "        ui_client(\"stop\")\n",
    "        print('Stop random moving')\n",
    "\n",
    "# linking button and function together using a button's method\n",
    "button1.on_click(on_button1_clicked)\n",
    "# displaying button and its output together\n",
    "#widgets.HBox([button1,button2, out])\n",
    "\n",
    "# linking button and function together using a button's method\n",
    "button2.on_click(on_button2_clicked)\n",
    "# displaying button and its output together\n",
    "#widgets.HBox([button2, out])\n",
    "widgets.VBox([HBox([button1,button2]), out])\n",
    "\n",
    "#out\n",
    "\n",
    "\n",
    "\n"
   ]
  },
  {
   "cell_type": "code",
   "execution_count": 2,
   "id": "11557744",
   "metadata": {
    "ExecuteTime": {
     "end_time": "2021-09-15T22:03:01.758005Z",
     "start_time": "2021-09-15T22:02:59.890465Z"
    },
    "scrolled": false
   },
   "outputs": [
    {
     "data": {
      "application/vnd.jupyter.widget-view+json": {
       "model_id": "b49b5ffe5e2948f993ea4bc7849c4d81",
       "version_major": 2,
       "version_minor": 0
      },
      "text/plain": [
       "HBox(children=(Label(value='Linear Velocity'), FloatSlider(value=0.3, max=0.6, min=0.1)))"
      ]
     },
     "metadata": {},
     "output_type": "display_data"
    },
    {
     "data": {
      "application/vnd.jupyter.widget-view+json": {
       "model_id": "71f41ff905b8428ab1d7abc07b162066",
       "version_major": 2,
       "version_minor": 0
      },
      "text/plain": [
       "HBox(children=(Label(value='Angular Velocity'), FloatSlider(value=0.3, max=0.6, min=0.1)))"
      ]
     },
     "metadata": {},
     "output_type": "display_data"
    },
    {
     "data": {
      "application/vnd.jupyter.widget-view+json": {
       "model_id": "565ef332075f467fa24ef4dd678c7875",
       "version_major": 2,
       "version_minor": 0
      },
      "text/plain": [
       "HBox(children=(Label(value='Kp_a'), FloatSlider(value=3.0, max=5.0, min=0.1)))"
      ]
     },
     "metadata": {},
     "output_type": "display_data"
    }
   ],
   "source": [
    "#pub = rospy.Publisher('cmd_vel', Twist, queue_size=10)\n",
    "%matplotlib widget\n",
    "import numpy as np\n",
    "import matplotlib.pyplot as plt\n",
    "import jupyros as jr\n",
    "import rospy\n",
    "from matplotlib import animation, rc\n",
    "import ipywidgets as widgets\n",
    "#msg = Twist()\n",
    "#initialization\n",
    "\n",
    "\n",
    "linear = widgets.FloatSlider(value=0.3, min=0.1, max=0.6)\n",
    "a1 = widgets.HBox([widgets.Label(value=\"Linear Velocity\"), linear])\n",
    "display(a1)\n",
    "\n",
    "angular = widgets.FloatSlider(value=0.3, min=0.1, max=0.6)\n",
    "a2 = widgets.HBox([widgets.Label(value=\"Angular Velocity\"), angular])\n",
    "display(a2)\n",
    "\n",
    "kp = widgets.FloatSlider(value=3, min=0.1, max=5.0)\n",
    "a3 = widgets.HBox([widgets.Label(value=\"Kp_a\"), kp])\n",
    "display(a3)\n",
    "\n",
    "\n",
    "\n",
    "def linear_value_change(change):\n",
    "    #global msg\n",
    "    #msg.linear.x = change['new']\n",
    "    l_vel = change['new']\n",
    "    rospy.set_param(\"linear_vel\",l_vel)\n",
    "    #pub.publish(msg)\n",
    "    \n",
    "def angular_value_change(change):\n",
    "    #global msg\n",
    "    #msg.angular.z = change['new']\n",
    "    a_vel = change['new']\n",
    "    rospy.set_param(\"angular_vel\",a_vel)    \n",
    "    #pub.publish(msg)\n",
    "\n",
    "def kp_value_change(change):\n",
    "    #global msg\n",
    "    #msg.angular.z = change['new']\n",
    "    kp_vel = change['new']\n",
    "    rospy.set_param(\"kp_vel\",kp_vel)    \n",
    "    #pub.publish(msg)\n",
    "    \n",
    "linear.observe(linear_value_change, names='value')\n",
    "angular.observe(angular_value_change, names='value')\n",
    "kp.observe(kp_value_change, names='value')\n"
   ]
  },
  {
   "cell_type": "code",
   "execution_count": null,
   "id": "4c610815",
   "metadata": {},
   "outputs": [],
   "source": []
  }
 ],
 "metadata": {
  "hide_input": false,
  "kernelspec": {
   "display_name": "Python 3 (ipykernel)",
   "language": "python",
   "name": "python3"
  },
  "language_info": {
   "codemirror_mode": {
    "name": "ipython",
    "version": 3
   },
   "file_extension": ".py",
   "mimetype": "text/x-python",
   "name": "python",
   "nbconvert_exporter": "python",
   "pygments_lexer": "ipython3",
   "version": "3.8.5"
  },
  "toc": {
   "base_numbering": 1,
   "nav_menu": {},
   "number_sections": true,
   "sideBar": true,
   "skip_h1_title": false,
   "title_cell": "Table of Contents",
   "title_sidebar": "Contents",
   "toc_cell": false,
   "toc_position": {},
   "toc_section_display": true,
   "toc_window_display": false
  },
  "varInspector": {
   "cols": {
    "lenName": 16,
    "lenType": 16,
    "lenVar": 40
   },
   "kernels_config": {
    "python": {
     "delete_cmd_postfix": "",
     "delete_cmd_prefix": "del ",
     "library": "var_list.py",
     "varRefreshCmd": "print(var_dic_list())"
    },
    "r": {
     "delete_cmd_postfix": ") ",
     "delete_cmd_prefix": "rm(",
     "library": "var_list.r",
     "varRefreshCmd": "cat(var_dic_list()) "
    }
   },
   "types_to_exclude": [
    "module",
    "function",
    "builtin_function_or_method",
    "instance",
    "_Feature"
   ],
   "window_display": false
  }
 },
 "nbformat": 4,
 "nbformat_minor": 5
}
