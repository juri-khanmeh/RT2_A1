{
 "cells": [
  {
   "cell_type": "markdown",
   "id": "f6816e84",
   "metadata": {},
   "source": [
    "# Graphs and Plots\n",
    "* Displaying some graphical information to the user.\n",
    "* Note: I seperated the histogram plot in a different notebook because the histogram is slowing down the execution of all the other graphs and interface."
   ]
  },
  {
   "cell_type": "markdown",
   "id": "e917fdf7",
   "metadata": {},
   "source": [
    "## xy graph\n",
    "This graph shows the robot’s position."
   ]
  },
  {
   "cell_type": "code",
   "execution_count": 1,
   "id": "d2daa0bc",
   "metadata": {
    "ExecuteTime": {
     "end_time": "2021-09-20T10:01:40.272292Z",
     "start_time": "2021-09-20T10:01:34.438101Z"
    },
    "scrolled": true
   },
   "outputs": [
    {
     "data": {
      "application/vnd.jupyter.widget-view+json": {
       "model_id": "cf8240287c804d90b7b95008f7db08f3",
       "version_major": 2,
       "version_minor": 0
      },
      "text/plain": [
       "Canvas(toolbar=Toolbar(toolitems=[('Home', 'Reset original view', 'home', 'home'), ('Back', 'Back to previous …"
      ]
     },
     "metadata": {},
     "output_type": "display_data"
    }
   ],
   "source": [
    "import ipywidgets as widgets\n",
    "from geometry_msgs.msg import Twist\n",
    "from matplotlib import animation, rc\n",
    "from nav_msgs.msg import Odometry\n",
    "import rospy\n",
    "import jupyros as jr\n",
    "import matplotlib.pyplot as plt\n",
    "import numpy as np\n",
    "from ipywidgets import Button, Layout, ButtonStyle, GridBox, VBox, HBox\n",
    "from rt2_assignment1.srv import Command\n",
    "\n",
    "%matplotlib widget\n",
    "# Initializing 'plotting' node\n",
    "rospy.init_node('plotting')\n",
    "\n",
    "# First set up the figure and the axis \n",
    "fig, ax = plt.subplots()\n",
    "ax.set_xlim(( -5, 5))\n",
    "ax.set_ylim((-5, 5))\n",
    "line, = ax.plot([], [], 'ro')\n",
    "\n",
    "# Defining position variables\n",
    "x_data=[]\n",
    "y_data=[]\n",
    "\n",
    "# Initializing line\n",
    "def init():\n",
    "    line.set_data([], [])\n",
    "    return (line,)\n",
    "\n",
    "## These following parts are merged in the second cell (Robot velocities) ##\n",
    "\n",
    "#def odom_callback(msg):\n",
    "#    y_data.append(msg.pose.pose.position.y)\n",
    "#   x_data.append(msg.pose.pose.position.x)\n",
    "\n",
    "#jr.subscribe('/odom', Odometry, odom_callback)\n",
    "\n",
    "def animate(i):\n",
    "    line.set_data(x_data, y_data)\n",
    "    return (line,)\n",
    "\n",
    "# call the animator \n",
    "anim = animation.FuncAnimation(fig, animate, init_func=init,\n",
    "                               frames=100, interval=20, blit=True)"
   ]
  },
  {
   "cell_type": "markdown",
   "id": "11449175",
   "metadata": {},
   "source": [
    "## Robot Velocities\n",
    "This plot is for visualizing cmd_vel vs. actual velocity (for linear and angular velocity)."
   ]
  },
  {
   "cell_type": "code",
   "execution_count": 2,
   "id": "b55fe203",
   "metadata": {
    "ExecuteTime": {
     "end_time": "2021-09-20T10:01:45.573592Z",
     "start_time": "2021-09-20T10:01:44.701836Z"
    },
    "scrolled": false
   },
   "outputs": [
    {
     "data": {
      "application/vnd.jupyter.widget-view+json": {
       "model_id": "a593cbfd86d84437b47f1ebeb5154340",
       "version_major": 2,
       "version_minor": 0
      },
      "text/plain": [
       "Canvas(toolbar=Toolbar(toolitems=[('Home', 'Reset original view', 'home', 'home'), ('Back', 'Back to previous …"
      ]
     },
     "metadata": {},
     "output_type": "display_data"
    }
   ],
   "source": [
    "# Setting up the figure and the axis \n",
    "fig_vel, ax_vel = plt.subplots()\n",
    "\n",
    "Tmin = 0 # The min value of x_axis\n",
    "Tmax = 10 # The max value of x_axis\n",
    "ax_vel.set_xlim(Tmin, Tmax)\n",
    "ax_vel.set_ylim((-1.1, 1.1))\n",
    "plt.title(\"Velocity\")\n",
    "plt.xlabel(\"Time\")\n",
    "plt.ylabel(\"Velocity\")\n",
    "\n",
    "# Define some variables\n",
    "t0 = rospy.get_time() # The moment of start plotting\n",
    "cmd_x = 0 # cmd_vel linear.x\n",
    "cmd_z = 0 # cmd_vel angualr.z\n",
    "\n",
    "\n",
    "# Define lines for plotting\n",
    "line_vel_cmd, = ax_vel.plot([], [], label = \"line_cmd\") \n",
    "line_vel_actual, = ax_vel.plot([], [], label = \"line_act\") \n",
    "line_velA_cmd, = ax_vel.plot([], [], label = \"ang_cmd\") \n",
    "line_velA_actual, = ax_vel.plot([], [], label = \"ang_act\") \n",
    "\n",
    "# Initializing line Data\n",
    "t_data= []\n",
    "v_linear_data=[]\n",
    "v_linearCMD_data=[]\n",
    "v_angular_data=[]\n",
    "v_angularCMD_data=[]\n",
    "\n",
    "def init2():\n",
    "    global t0\n",
    "    t0 = rospy.get_time()\n",
    "    line_vel_actual.set_data([], [])\n",
    "    line_vel_cmd.set_data([], [])\n",
    "    line_velA_actual.set_data([], [])\n",
    "    line_velA_cmd.set_data([], [])\n",
    "\n",
    "    return (line_vel_actual, line_vel_cmd, line_velA_actual, line_velA_cmd,)\n",
    "\n",
    "## odom call_back  ##\n",
    "def odom_callback(msg):\n",
    "    global t0, Tmax, Tmin, cmd_x, cmd_z\n",
    "    temp = rospy.get_time()\n",
    "    \n",
    "    # Updating odometry velocities\n",
    "    v_linear_data.append(msg.twist.twist.linear.x)\n",
    "    v_angular_data.append(-1*msg.twist.twist.angular.z)\n",
    "    \n",
    "    # Adapting y_axis\n",
    "    tt = temp-t0\n",
    "    t_data.append(tt)\n",
    "    if tt > Tmax:\n",
    "        Tmin = Tmin + 1\n",
    "        Tmax = Tmax + 1\n",
    "        ax_vel.set_xlim(Tmin, Tmax)\n",
    "        \n",
    "    # Updating position data for xy graph\n",
    "    y_data.append(msg.pose.pose.position.y)\n",
    "    x_data.append(msg.pose.pose.position.x)\n",
    "    # Updating velocity data for velocities graph\n",
    "    v_linearCMD_data.append(cmd_x)\n",
    "    v_angularCMD_data.append(cmd_z)    \n",
    "\n",
    "## Tiwist call_back ##   \n",
    "def twist_callback(msg_twist):\n",
    "    global cmd_x, cmd_z\n",
    "    # Updating cmd_vel values\n",
    "    cmd_x = msg_twist.linear.x\n",
    "    cmd_z = msg_twist.angular.z\n",
    "       \n",
    "def animate2(i):\n",
    "    # add legend\n",
    "    ax_vel.legend([line_vel_actual, line_vel_cmd, line_velA_actual, line_velA_cmd], \n",
    "                  ['Linear Vel.', 'Cmd. linear','Angular Vel.','Cmd. angular'], loc = 'lower right')\n",
    "    # Update lines\n",
    "    line_vel_actual.set_data(t_data, v_linear_data)\n",
    "    line_vel_cmd.set_data(t_data, v_linearCMD_data)\n",
    "    line_velA_actual.set_data(t_data, v_angular_data)\n",
    "    line_velA_cmd.set_data(t_data, v_angularCMD_data)\n",
    "    return (line_vel_actual, line_vel_cmd, line_velA_actual, line_velA_cmd,)#\n",
    "\n",
    "# Subscribing for /odom and /cmd_vel topics\n",
    "jr.subscribe('/odom', Odometry, odom_callback)\n",
    "jr.subscribe('/cmd_vel', Twist, twist_callback)\n",
    "\n",
    "# call the animator. blit=True means only re-draw the parts that have changed.\n",
    "anim2 = animation.FuncAnimation(fig_vel, animate2, init_func=init2,\n",
    "                                frames=1000,blit=True)"
   ]
  },
  {
   "cell_type": "markdown",
   "id": "b0675491",
   "metadata": {},
   "source": [
    "## Reached/Cancelled targets \n",
    "Plotting a bar plot for displaying the number of reached targets and cancelled targets."
   ]
  },
  {
   "cell_type": "code",
   "execution_count": 3,
   "id": "4a2cae67",
   "metadata": {
    "ExecuteTime": {
     "end_time": "2021-09-20T10:01:51.164001Z",
     "start_time": "2021-09-20T10:01:50.723039Z"
    }
   },
   "outputs": [
    {
     "data": {
      "application/vnd.jupyter.widget-view+json": {
       "model_id": "25475185ad2d43909a7902407c522fcb",
       "version_major": 2,
       "version_minor": 0
      },
      "text/plain": [
       "Canvas(toolbar=Toolbar(toolitems=[('Home', 'Reset original view', 'home', 'home'), ('Back', 'Back to previous …"
      ]
     },
     "metadata": {},
     "output_type": "display_data"
    }
   ],
   "source": [
    "import rt2_assignment1.msg\n",
    "import matplotlib.pyplot as plt\n",
    "import matplotlib.animation as animation\n",
    "import rospy\n",
    "import jupyros as jr\n",
    "import numpy as np\n",
    "\n",
    "\n",
    "# Defining barPlot Data\n",
    "goals = [0, 0] # goals[0] for reached and goals[1] for cancelled\n",
    "labels = ['Reached', 'Cancelled']\n",
    "\n",
    "# Defining plot figure and its parameters\n",
    "fig_b, ax_b = plt.subplots()\n",
    "ax_b.yaxis.set_ticks(np.arange(0, max(goals)+2, 1))\n",
    "plt.ylabel('number of goals')\n",
    "plt.title('Plot for Goal Results')\n",
    "#plt.show()\n",
    "bars = plt.bar(labels, goals)\n",
    "\n",
    "# Callback for PositionActionResult msg\n",
    "def result_callback(msg):\n",
    "    # Update bar and histogram data\n",
    "    if msg.result.ok == True:\n",
    "        goals[0] = goals[0] + 1 \n",
    "        HIST_data.append(msg.header.stamp.secs - msg.status.goal_id.stamp.secs)\n",
    "    else:\n",
    "        goals[1] = goals[1] + 1 \n",
    "        \n",
    "\n",
    "def animate_rects(i):\n",
    "    # Updating the bar figure\n",
    "    for b, val in zip(bars, goals):\n",
    "         b.set_height(val)   \n",
    "    ax_b.yaxis.set_ticks(np.arange(0, max(goals)+2, 1))\n",
    "    return bars, \n",
    "\n",
    "# Subscribe to the /go_to_point/results topic\n",
    "jr.subscribe('/go_to_point/result', rt2_assignment1.msg.PositionActionResult, result_callback)\n",
    "\n",
    "# Create an animation function for the barPlot\n",
    "anim_goal = animation.FuncAnimation(fig_b, animate_rects, blit=True)"
   ]
  },
  {
   "cell_type": "code",
   "execution_count": null,
   "id": "98e24921",
   "metadata": {},
   "outputs": [],
   "source": []
  }
 ],
 "metadata": {
  "hide_input": false,
  "kernelspec": {
   "display_name": "Python 3 (ipykernel)",
   "language": "python",
   "name": "python3"
  },
  "language_info": {
   "codemirror_mode": {
    "name": "ipython",
    "version": 3
   },
   "file_extension": ".py",
   "mimetype": "text/x-python",
   "name": "python",
   "nbconvert_exporter": "python",
   "pygments_lexer": "ipython3",
   "version": "3.8.5"
  },
  "toc": {
   "base_numbering": 1,
   "nav_menu": {},
   "number_sections": true,
   "sideBar": true,
   "skip_h1_title": false,
   "title_cell": "Table of Contents",
   "title_sidebar": "Contents",
   "toc_cell": false,
   "toc_position": {},
   "toc_section_display": true,
   "toc_window_display": false
  },
  "varInspector": {
   "cols": {
    "lenName": 16,
    "lenType": 16,
    "lenVar": 40
   },
   "kernels_config": {
    "python": {
     "delete_cmd_postfix": "",
     "delete_cmd_prefix": "del ",
     "library": "var_list.py",
     "varRefreshCmd": "print(var_dic_list())"
    },
    "r": {
     "delete_cmd_postfix": ") ",
     "delete_cmd_prefix": "rm(",
     "library": "var_list.r",
     "varRefreshCmd": "cat(var_dic_list()) "
    }
   },
   "types_to_exclude": [
    "module",
    "function",
    "builtin_function_or_method",
    "instance",
    "_Feature"
   ],
   "window_display": false
  }
 },
 "nbformat": 4,
 "nbformat_minor": 5
}
